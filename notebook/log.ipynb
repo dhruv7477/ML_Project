{
 "cells": [
  {
   "cell_type": "code",
   "execution_count": 1,
   "metadata": {},
   "outputs": [
    {
     "data": {
      "text/plain": [
       "'f:\\\\Coding_Notes\\\\ML_Project'"
      ]
     },
     "execution_count": 1,
     "metadata": {},
     "output_type": "execute_result"
    }
   ],
   "source": [
    "import os\n",
    "\n",
    "os.chdir(os.pardir)\n",
    "os.getcwd()"
   ]
  },
  {
   "cell_type": "code",
   "execution_count": 2,
   "metadata": {},
   "outputs": [
    {
     "name": "stderr",
     "output_type": "stream",
     "text": [
      "f:\\Coding_Notes\\ML_Project\\venv\\lib\\site-packages\\evidently\\analyzers\\__init__.py:3: UserWarning: analyzers are deprecated, use metrics instead\n",
      "  warnings.warn(\"analyzers are deprecated, use metrics instead\")\n",
      "f:\\Coding_Notes\\ML_Project\\venv\\lib\\site-packages\\evidently\\model_profile\\__init__.py:8: UserWarning: model profiles are deprecated, use metrics instead\n",
      "  warnings.warn(\"model profiles are deprecated, use metrics instead\")\n",
      "f:\\Coding_Notes\\ML_Project\\venv\\lib\\site-packages\\evidently\\dashboard\\__init__.py:8: UserWarning: dashboards are deprecated, use metrics instead\n",
      "  warnings.warn(\"dashboards are deprecated, use metrics instead\")\n"
     ]
    }
   ],
   "source": [
    "from housing.pipeline.pipeline import Pipeline"
   ]
  },
  {
   "cell_type": "code",
   "execution_count": 3,
   "metadata": {},
   "outputs": [],
   "source": [
    "pipe_line= Pipeline()"
   ]
  },
  {
   "cell_type": "code",
   "execution_count": 4,
   "metadata": {},
   "outputs": [],
   "source": [
    "pipe_line.start()"
   ]
  },
  {
   "cell_type": "code",
   "execution_count": 5,
   "metadata": {},
   "outputs": [
    {
     "data": {
      "text/plain": [
       "Experiment(experiment_id='0a0a71f2-2d8f-4c18-9305-e00acae6ee17', initialization_timestamp='2023-03-19-11-15-56', log_file_name='log_2023-03-19-11-15-56.log', running_status=True, start_time=datetime.datetime(2023, 3, 19, 11, 16, 16, 645402), stop_time=None, execution_time=None, message='Pipeline has been started.', experiment_file_path='f:\\\\Coding_Notes\\\\ML_Project\\\\housing\\\\artifact\\\\experiment\\\\experiment-0a0a71f2-2d8f-4c18-9305-e00acae6ee17.csv')"
      ]
     },
     "execution_count": 5,
     "metadata": {},
     "output_type": "execute_result"
    },
    {
     "name": "stdout",
     "output_type": "stream",
     "text": [
      "{'fit_intercept': True}\n",
      "{'n_estimators': 40, 'min_samples_leaf': 2}\n",
      "{'cv': 4, 'verbose': 2}\n",
      "Fitting 4 folds for each of 1 candidates, totalling 4 fits\n",
      "[CV] END .................................fit_intercept=True; total time=   0.1s\n",
      "[CV] END .................................fit_intercept=True; total time=   0.0s\n",
      "[CV] END .................................fit_intercept=True; total time=   0.0s\n",
      "[CV] END .................................fit_intercept=True; total time=   0.0s\n",
      "{'cv': 4, 'verbose': 2}\n",
      "Fitting 4 folds for each of 1 candidates, totalling 4 fits\n",
      "[CV] END ................min_samples_leaf=2, n_estimators=50; total time=   3.6s\n"
     ]
    }
   ],
   "source": [
    "pipe_line.experiment"
   ]
  },
  {
   "cell_type": "code",
   "execution_count": 6,
   "metadata": {},
   "outputs": [
    {
     "data": {
      "text/plain": [
       "Experiment(experiment_id='0a0a71f2-2d8f-4c18-9305-e00acae6ee17', initialization_timestamp='2023-03-19-11-15-56', log_file_name='log_2023-03-19-11-15-56.log', running_status=True, start_time=datetime.datetime(2023, 3, 19, 11, 16, 16, 645402), stop_time=None, execution_time=None, message='Pipeline has been started.', experiment_file_path='f:\\\\Coding_Notes\\\\ML_Project\\\\housing\\\\artifact\\\\experiment\\\\experiment-0a0a71f2-2d8f-4c18-9305-e00acae6ee17.csv')"
      ]
     },
     "execution_count": 6,
     "metadata": {},
     "output_type": "execute_result"
    },
    {
     "name": "stdout",
     "output_type": "stream",
     "text": [
      "[CV] END ................min_samples_leaf=2, n_estimators=50; total time=   3.5s\n",
      "[CV] END ................min_samples_leaf=2, n_estimators=50; total time=   3.7s\n",
      "[CV] END ................min_samples_leaf=2, n_estimators=50; total time=   3.6s\n",
      "{'cv': 4, 'verbose': 2}\n",
      "Fitting 4 folds for each of 3 candidates, totalling 12 fits\n"
     ]
    }
   ],
   "source": [
    "pipe_line.run_pipeline()"
   ]
  },
  {
   "cell_type": "code",
   "execution_count": 7,
   "metadata": {},
   "outputs": [
    {
     "name": "stdout",
     "output_type": "stream",
     "text": [
      "[CV] END ........................................kernel=poly; total time=   6.1s\n"
     ]
    },
    {
     "name": "stdout",
     "output_type": "stream",
     "text": [
      "[CV] END ........................................kernel=poly; total time=   6.0s\n",
      "[CV] END ........................................kernel=poly; total time=   5.8s\n"
     ]
    }
   ],
   "source": [
    "import pandas as pd"
   ]
  },
  {
   "cell_type": "code",
   "execution_count": 8,
   "metadata": {},
   "outputs": [
    {
     "data": {
      "text/html": [
       "<div>\n",
       "<style scoped>\n",
       "    .dataframe tbody tr th:only-of-type {\n",
       "        vertical-align: middle;\n",
       "    }\n",
       "\n",
       "    .dataframe tbody tr th {\n",
       "        vertical-align: top;\n",
       "    }\n",
       "\n",
       "    .dataframe thead th {\n",
       "        text-align: right;\n",
       "    }\n",
       "</style>\n",
       "<table border=\"1\" class=\"dataframe\">\n",
       "  <thead>\n",
       "    <tr style=\"text-align: right;\">\n",
       "      <th></th>\n",
       "      <th>0</th>\n",
       "      <th>1</th>\n",
       "    </tr>\n",
       "  </thead>\n",
       "  <tbody>\n",
       "    <tr>\n",
       "      <th>0</th>\n",
       "      <td>experiment_id</td>\n",
       "      <td>0a0a71f2-2d8f-4c18-9305-e00acae6ee17</td>\n",
       "    </tr>\n",
       "    <tr>\n",
       "      <th>1</th>\n",
       "      <td>initialization_timestamp</td>\n",
       "      <td>2023-03-19-11-15-56</td>\n",
       "    </tr>\n",
       "    <tr>\n",
       "      <th>2</th>\n",
       "      <td>log_file_name</td>\n",
       "      <td>log_2023-03-19-11-15-56.log</td>\n",
       "    </tr>\n",
       "    <tr>\n",
       "      <th>3</th>\n",
       "      <td>running_status</td>\n",
       "      <td>True</td>\n",
       "    </tr>\n",
       "    <tr>\n",
       "      <th>4</th>\n",
       "      <td>start_time</td>\n",
       "      <td>2023-03-19 11:16:16.645402</td>\n",
       "    </tr>\n",
       "    <tr>\n",
       "      <th>5</th>\n",
       "      <td>stop_time</td>\n",
       "      <td>None</td>\n",
       "    </tr>\n",
       "    <tr>\n",
       "      <th>6</th>\n",
       "      <td>execution_time</td>\n",
       "      <td>None</td>\n",
       "    </tr>\n",
       "    <tr>\n",
       "      <th>7</th>\n",
       "      <td>message</td>\n",
       "      <td>Pipeline has been started.</td>\n",
       "    </tr>\n",
       "    <tr>\n",
       "      <th>8</th>\n",
       "      <td>experiment_file_path</td>\n",
       "      <td>f:\\Coding_Notes\\ML_Project\\housing\\artifact\\ex...</td>\n",
       "    </tr>\n",
       "  </tbody>\n",
       "</table>\n",
       "</div>"
      ],
      "text/plain": [
       "                          0                                                  1\n",
       "0             experiment_id               0a0a71f2-2d8f-4c18-9305-e00acae6ee17\n",
       "1  initialization_timestamp                                2023-03-19-11-15-56\n",
       "2             log_file_name                        log_2023-03-19-11-15-56.log\n",
       "3            running_status                                               True\n",
       "4                start_time                         2023-03-19 11:16:16.645402\n",
       "5                 stop_time                                               None\n",
       "6            execution_time                                               None\n",
       "7                   message                         Pipeline has been started.\n",
       "8      experiment_file_path  f:\\Coding_Notes\\ML_Project\\housing\\artifact\\ex..."
      ]
     },
     "execution_count": 8,
     "metadata": {},
     "output_type": "execute_result"
    },
    {
     "name": "stdout",
     "output_type": "stream",
     "text": [
      "[CV] END ........................................kernel=poly; total time=   5.6s\n",
      "[CV] END .........................................kernel=rbf; total time=  11.1s\n"
     ]
    }
   ],
   "source": [
    "pd.DataFrame(zip(pipe_line.experiment._fields,pipe_line.experiment))"
   ]
  },
  {
   "cell_type": "code",
   "execution_count": 9,
   "metadata": {},
   "outputs": [
    {
     "name": "stdout",
     "output_type": "stream",
     "text": [
      "[CV] END .........................................kernel=rbf; total time=  10.8s\n",
      "[CV] END .........................................kernel=rbf; total time=  10.8s\n"
     ]
    }
   ],
   "source": [
    "pipe_line.save_experiment()"
   ]
  },
  {
   "cell_type": "code",
   "execution_count": 10,
   "metadata": {},
   "outputs": [
    {
     "data": {
      "text/html": [
       "<div>\n",
       "<style scoped>\n",
       "    .dataframe tbody tr th:only-of-type {\n",
       "        vertical-align: middle;\n",
       "    }\n",
       "\n",
       "    .dataframe tbody tr th {\n",
       "        vertical-align: top;\n",
       "    }\n",
       "\n",
       "    .dataframe thead th {\n",
       "        text-align: right;\n",
       "    }\n",
       "</style>\n",
       "<table border=\"1\" class=\"dataframe\">\n",
       "  <thead>\n",
       "    <tr style=\"text-align: right;\">\n",
       "      <th></th>\n",
       "      <th>0</th>\n",
       "      <th>1</th>\n",
       "    </tr>\n",
       "  </thead>\n",
       "  <tbody>\n",
       "    <tr>\n",
       "      <th>0</th>\n",
       "      <td>experiment_id</td>\n",
       "      <td>0a0a71f2-2d8f-4c18-9305-e00acae6ee17</td>\n",
       "    </tr>\n",
       "    <tr>\n",
       "      <th>1</th>\n",
       "      <td>initialization_timestamp</td>\n",
       "      <td>2023-03-19-11-15-56</td>\n",
       "    </tr>\n",
       "    <tr>\n",
       "      <th>2</th>\n",
       "      <td>log_file_name</td>\n",
       "      <td>log_2023-03-19-11-15-56.log</td>\n",
       "    </tr>\n",
       "    <tr>\n",
       "      <th>3</th>\n",
       "      <td>running_status</td>\n",
       "      <td>True</td>\n",
       "    </tr>\n",
       "    <tr>\n",
       "      <th>4</th>\n",
       "      <td>start_time</td>\n",
       "      <td>2023-03-19 11:16:16.645402</td>\n",
       "    </tr>\n",
       "    <tr>\n",
       "      <th>5</th>\n",
       "      <td>stop_time</td>\n",
       "      <td>NaN</td>\n",
       "    </tr>\n",
       "    <tr>\n",
       "      <th>6</th>\n",
       "      <td>execution_time</td>\n",
       "      <td>NaN</td>\n",
       "    </tr>\n",
       "    <tr>\n",
       "      <th>7</th>\n",
       "      <td>message</td>\n",
       "      <td>Pipeline has been started.</td>\n",
       "    </tr>\n",
       "    <tr>\n",
       "      <th>8</th>\n",
       "      <td>experiment_file_path</td>\n",
       "      <td>f:\\Coding_Notes\\ML_Project\\housing\\artifact\\ex...</td>\n",
       "    </tr>\n",
       "  </tbody>\n",
       "</table>\n",
       "</div>"
      ],
      "text/plain": [
       "                          0                                                  1\n",
       "0             experiment_id               0a0a71f2-2d8f-4c18-9305-e00acae6ee17\n",
       "1  initialization_timestamp                                2023-03-19-11-15-56\n",
       "2             log_file_name                        log_2023-03-19-11-15-56.log\n",
       "3            running_status                                               True\n",
       "4                start_time                         2023-03-19 11:16:16.645402\n",
       "5                 stop_time                                                NaN\n",
       "6            execution_time                                                NaN\n",
       "7                   message                         Pipeline has been started.\n",
       "8      experiment_file_path  f:\\Coding_Notes\\ML_Project\\housing\\artifact\\ex..."
      ]
     },
     "execution_count": 10,
     "metadata": {},
     "output_type": "execute_result"
    },
    {
     "name": "stdout",
     "output_type": "stream",
     "text": [
      "[CV] END .........................................kernel=rbf; total time=  11.1s\n",
      "[CV] END .....................................kernel=sigmoid; total time=   8.4s\n",
      "[CV] END .....................................kernel=sigmoid; total time=   8.4s\n",
      "[CV] END .....................................kernel=sigmoid; total time=   8.9s\n",
      "[CV] END .....................................kernel=sigmoid; total time=   8.8s\n"
     ]
    },
    {
     "name": "stderr",
     "output_type": "stream",
     "text": [
      "Exception in thread pipeline:\n",
      "Traceback (most recent call last):\n",
      "  File \"f:\\Coding_Notes\\ML_Project\\housing\\pipeline\\pipeline.py\", line 163, in run_pipeline\n",
      "    message=\"Pipeline has been completed.\"\n",
      "TypeError: __new__() missing 1 required positional argument: 'experiment_file_path'\n",
      "\n",
      "The above exception was the direct cause of the following exception:\n",
      "\n",
      "Traceback (most recent call last):\n",
      "  File \"f:\\Coding_Notes\\ML_Project\\venv\\lib\\threading.py\", line 917, in _bootstrap_inner\n",
      "    self.run()\n",
      "  File \"f:\\Coding_Notes\\ML_Project\\housing\\pipeline\\pipeline.py\", line 174, in run\n",
      "    raise e\n",
      "  File \"f:\\Coding_Notes\\ML_Project\\housing\\pipeline\\pipeline.py\", line 172, in run\n",
      "    self.run_pipeline()\n",
      "  File \"f:\\Coding_Notes\\ML_Project\\housing\\pipeline\\pipeline.py\", line 168, in run_pipeline\n",
      "    raise HousingException(e, sys) from e\n",
      "housing.exception.HousingException: \n",
      "        Error occured in script: \n",
      "        [ f:\\Coding_Notes\\ML_Project\\housing\\pipeline\\pipeline.py ] at \n",
      "        try block line number: [163] and exception block line number: [168] \n",
      "        error message: [__new__() missing 1 required positional argument: 'experiment_file_path']\n",
      "        \n",
      "\n"
     ]
    }
   ],
   "source": [
    "pipe_line.get_experiment_status()"
   ]
  },
  {
   "cell_type": "code",
   "execution_count": null,
   "metadata": {},
   "outputs": [],
   "source": []
  }
 ],
 "metadata": {
  "kernelspec": {
   "display_name": "Python 3",
   "language": "python",
   "name": "python3"
  },
  "language_info": {
   "codemirror_mode": {
    "name": "ipython",
    "version": 3
   },
   "file_extension": ".py",
   "mimetype": "text/x-python",
   "name": "python",
   "nbconvert_exporter": "python",
   "pygments_lexer": "ipython3",
   "version": "3.7.0"
  },
  "orig_nbformat": 4
 },
 "nbformat": 4,
 "nbformat_minor": 2
}
